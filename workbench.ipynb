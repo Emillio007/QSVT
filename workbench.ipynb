{
 "cells": [
  {
   "cell_type": "markdown",
   "id": "fff55cc0",
   "metadata": {},
   "source": [
    "# The workbench to start working with QSVT\n",
    "\n",
    "The Quantum Singular Value Transformation is a foundational quantum algorithm, which can be tuned to perform all important fundamental algorithms. See paper \"Grand Unification of Quantum Algorithms\" 2021 [1]. \n",
    "\n",
    "QSVT works by embedding some linear transformation, A (not necessarily a square matrix), in a larger unitary operator, U. This is known as \"Block Encoding\". Depending on the transformation in question, and the desired output, QSVT can by clever combination of controlled projection operators and single qubit rotations apply any polynomial (obeying necessary constraints, as discussed in [1]) to the singular values of A. Tuning the linear transformation, projection space and the polynomial, QSVT can perform many different operations, including unstructered search (Grover's), more general probability amplification, eigenvalue transformation and threshold cutoff, phase estimation and also quantum fourier transform. \n",
    "\n",
    "Idea: Can we use QSVT to approximate a certain probability distribution? I.e. can we prepare an arbitrary quantum state approximately by QSVT? "
   ]
  },
  {
   "cell_type": "code",
   "execution_count": 7,
   "id": "ad43b251",
   "metadata": {},
   "outputs": [
    {
     "data": {
      "text/plain": [
       "array([[ 1.00000000e+00,  4.13108370e-17,  2.21870637e-17],\n",
       "       [ 4.13108370e-17,  1.00000000e+00, -1.77008767e-16],\n",
       "       [ 2.21870637e-17, -1.77008767e-16,  1.00000000e+00]])"
      ]
     },
     "execution_count": 7,
     "metadata": {},
     "output_type": "execute_result"
    }
   ],
   "source": [
    "import numpy as np\n",
    "\n",
    "a = np.array([[1, 2, 3], [4, 5, 6]])\n",
    "\n",
    "V, s, W = np.linalg.svd(a)\n",
    "W @ W.transpose()"
   ]
  }
 ],
 "metadata": {
  "kernelspec": {
   "display_name": ".venv",
   "language": "python",
   "name": "python3"
  },
  "language_info": {
   "codemirror_mode": {
    "name": "ipython",
    "version": 3
   },
   "file_extension": ".py",
   "mimetype": "text/x-python",
   "name": "python",
   "nbconvert_exporter": "python",
   "pygments_lexer": "ipython3",
   "version": "3.13.1"
  }
 },
 "nbformat": 4,
 "nbformat_minor": 5
}
